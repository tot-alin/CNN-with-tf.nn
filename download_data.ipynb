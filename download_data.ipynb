{
 "cells": [
  {
   "cell_type": "code",
   "execution_count": null,
   "id": "71b9bb08-3877-4485-87f6-bde773d78fef",
   "metadata": {},
   "outputs": [],
   "source": [
    "import urllib.request\n",
    "import os.path\n",
    "from os import path\n",
    "from zipfile import ZipFile"
   ]
  },
  {
   "cell_type": "code",
   "execution_count": 1,
   "id": "21e7ba8c-2acd-4769-a326-b3acfdbbf3d2",
   "metadata": {},
   "outputs": [],
   "source": [
    "def download_data():\n",
    "    if path.isfile('natural-images.zip') is False:\n",
    "        url = 'https://www.kaggle.com/api/v1/datasets/download/prasunroy/natural-images/'\n",
    "        filename = 'natural-images.zip'\n",
    "        urllib.request.urlretrieve(url, filename)\n",
    "    \n",
    "    if path.isdir('data') is False:\n",
    "        with ZipFile('natural-images.zip', 'r') as zip:\n",
    "            zip.extractall()\n",
    "\n",
    "download_data()\n"
   ]
  }
 ],
 "metadata": {
  "kernelspec": {
   "display_name": "Python 3 (ipykernel)",
   "language": "python",
   "name": "python3"
  },
  "language_info": {
   "codemirror_mode": {
    "name": "ipython",
    "version": 3
   },
   "file_extension": ".py",
   "mimetype": "text/x-python",
   "name": "python",
   "nbconvert_exporter": "python",
   "pygments_lexer": "ipython3",
   "version": "3.12.3"
  }
 },
 "nbformat": 4,
 "nbformat_minor": 5
}
